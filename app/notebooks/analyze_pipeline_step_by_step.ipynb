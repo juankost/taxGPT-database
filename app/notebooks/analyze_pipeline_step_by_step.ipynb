{
 "cells": [
  {
   "cell_type": "code",
   "execution_count": 1,
   "id": "9558aef9",
   "metadata": {},
   "outputs": [],
   "source": [
    "import os\n",
    "os.chdir(\"/Users/juankostelec/Google_drive/Projects/taxGPT-database\")"
   ]
  },
  {
   "cell_type": "code",
   "execution_count": 2,
   "id": "c1d297a9",
   "metadata": {},
   "outputs": [
    {
     "name": "stdout",
     "output_type": "stream",
     "text": [
      "\u001b[33mWARNING: Skipping /Users/juankostelec/opt/anaconda3/envs/taxGPT/lib/python3.11/site-packages/python_magic-0.4.27.dist-info due to invalid metadata entry 'name'\u001b[0m\u001b[33m\n",
      "\u001b[0m\u001b[33mWARNING: Skipping /Users/juankostelec/opt/anaconda3/envs/taxGPT/lib/python3.11/site-packages/python_magic-0.4.27.dist-info due to invalid metadata entry 'name'\u001b[0m\u001b[33m\n",
      "\u001b[0mObtaining file:///Users/juankostelec/Google_drive/Projects/taxGPT-database\n",
      "  Preparing metadata (setup.py) ... \u001b[?25ldone\n",
      "\u001b[?25h\u001b[33m  WARNING: Skipping /Users/juankostelec/opt/anaconda3/envs/taxGPT/lib/python3.11/site-packages/python_magic-0.4.27.dist-info due to invalid metadata entry 'name'\u001b[0m\u001b[33m\n",
      "\u001b[0mRequirement already satisfied: pandas in /Users/juankostelec/opt/anaconda3/envs/taxGPT/lib/python3.11/site-packages (from taxgpt-database==0.1.0) (1.5.3)\n",
      "Requirement already satisfied: selenium in /Users/juankostelec/opt/anaconda3/envs/taxGPT/lib/python3.11/site-packages (from taxgpt-database==0.1.0) (4.14.0)\n",
      "Requirement already satisfied: beautifulsoup4 in /Users/juankostelec/opt/anaconda3/envs/taxGPT/lib/python3.11/site-packages (from taxgpt-database==0.1.0) (4.12.2)\n",
      "Requirement already satisfied: google-cloud-storage in /Users/juankostelec/opt/anaconda3/envs/taxGPT/lib/python3.11/site-packages (from taxgpt-database==0.1.0) (2.14.0)\n",
      "Requirement already satisfied: google-auth in /Users/juankostelec/opt/anaconda3/envs/taxGPT/lib/python3.11/site-packages (from taxgpt-database==0.1.0) (2.27.0)\n",
      "Requirement already satisfied: langchain in /Users/juankostelec/opt/anaconda3/envs/taxGPT/lib/python3.11/site-packages (from taxgpt-database==0.1.0) (0.1.9)\n",
      "Requirement already satisfied: langchain_openai in /Users/juankostelec/opt/anaconda3/envs/taxGPT/lib/python3.11/site-packages (from taxgpt-database==0.1.0) (0.0.7)\n",
      "Requirement already satisfied: langchain_community in /Users/juankostelec/opt/anaconda3/envs/taxGPT/lib/python3.11/site-packages (from taxgpt-database==0.1.0) (0.0.23)\n",
      "Requirement already satisfied: tiktoken>=0.6.0 in /Users/juankostelec/opt/anaconda3/envs/taxGPT/lib/python3.11/site-packages (from taxgpt-database==0.1.0) (0.6.0)\n",
      "Requirement already satisfied: python-dotenv in /Users/juankostelec/opt/anaconda3/envs/taxGPT/lib/python3.11/site-packages (from taxgpt-database==0.1.0) (1.0.0)\n",
      "Requirement already satisfied: wget in /Users/juankostelec/opt/anaconda3/envs/taxGPT/lib/python3.11/site-packages (from taxgpt-database==0.1.0) (3.2)\n",
      "Requirement already satisfied: openai in /Users/juankostelec/opt/anaconda3/envs/taxGPT/lib/python3.11/site-packages (from taxgpt-database==0.1.0) (1.11.1)\n",
      "Requirement already satisfied: faiss-cpu in /Users/juankostelec/opt/anaconda3/envs/taxGPT/lib/python3.11/site-packages (from taxgpt-database==0.1.0) (1.7.4)\n",
      "Requirement already satisfied: uvicorn in /Users/juankostelec/opt/anaconda3/envs/taxGPT/lib/python3.11/site-packages (from taxgpt-database==0.1.0) (0.23.2)\n",
      "Requirement already satisfied: fastapi in /Users/juankostelec/opt/anaconda3/envs/taxGPT/lib/python3.11/site-packages (from taxgpt-database==0.1.0) (0.104.0)\n",
      "Collecting argparse (from taxgpt-database==0.1.0)\n",
      "  Using cached argparse-1.4.0-py2.py3-none-any.whl.metadata (2.8 kB)\n",
      "Requirement already satisfied: tqdm in /Users/juankostelec/opt/anaconda3/envs/taxGPT/lib/python3.11/site-packages (from taxgpt-database==0.1.0) (4.66.2)\n",
      "Requirement already satisfied: backoff in /Users/juankostelec/opt/anaconda3/envs/taxGPT/lib/python3.11/site-packages (from taxgpt-database==0.1.0) (2.2.1)\n",
      "Requirement already satisfied: pymupdf in /Users/juankostelec/opt/anaconda3/envs/taxGPT/lib/python3.11/site-packages (from taxgpt-database==0.1.0) (1.23.6)\n",
      "Requirement already satisfied: regex>=2022.1.18 in /Users/juankostelec/opt/anaconda3/envs/taxGPT/lib/python3.11/site-packages (from tiktoken>=0.6.0->taxgpt-database==0.1.0) (2023.5.5)\n",
      "Requirement already satisfied: requests>=2.26.0 in /Users/juankostelec/opt/anaconda3/envs/taxGPT/lib/python3.11/site-packages (from tiktoken>=0.6.0->taxgpt-database==0.1.0) (2.29.0)\n",
      "Requirement already satisfied: soupsieve>1.2 in /Users/juankostelec/opt/anaconda3/envs/taxGPT/lib/python3.11/site-packages (from beautifulsoup4->taxgpt-database==0.1.0) (2.4)\n",
      "Requirement already satisfied: anyio<4.0.0,>=3.7.1 in /Users/juankostelec/opt/anaconda3/envs/taxGPT/lib/python3.11/site-packages (from fastapi->taxgpt-database==0.1.0) (3.7.1)\n",
      "Requirement already satisfied: pydantic!=1.8,!=1.8.1,!=2.0.0,!=2.0.1,!=2.1.0,<3.0.0,>=1.7.4 in /Users/juankostelec/opt/anaconda3/envs/taxGPT/lib/python3.11/site-packages (from fastapi->taxgpt-database==0.1.0) (2.7.1)\n",
      "Requirement already satisfied: starlette<0.28.0,>=0.27.0 in /Users/juankostelec/opt/anaconda3/envs/taxGPT/lib/python3.11/site-packages (from fastapi->taxgpt-database==0.1.0) (0.27.0)\n",
      "Requirement already satisfied: typing-extensions>=4.8.0 in /Users/juankostelec/opt/anaconda3/envs/taxGPT/lib/python3.11/site-packages (from fastapi->taxgpt-database==0.1.0) (4.9.0)\n",
      "Requirement already satisfied: cachetools<6.0,>=2.0.0 in /Users/juankostelec/opt/anaconda3/envs/taxGPT/lib/python3.11/site-packages (from google-auth->taxgpt-database==0.1.0) (5.3.2)\n",
      "Requirement already satisfied: pyasn1-modules>=0.2.1 in /Users/juankostelec/opt/anaconda3/envs/taxGPT/lib/python3.11/site-packages (from google-auth->taxgpt-database==0.1.0) (0.3.0)\n",
      "Requirement already satisfied: rsa<5,>=3.1.4 in /Users/juankostelec/opt/anaconda3/envs/taxGPT/lib/python3.11/site-packages (from google-auth->taxgpt-database==0.1.0) (4.9)\n",
      "Requirement already satisfied: google-api-core!=2.0.*,!=2.1.*,!=2.2.*,!=2.3.0,<3.0.0dev,>=1.31.5 in /Users/juankostelec/opt/anaconda3/envs/taxGPT/lib/python3.11/site-packages (from google-cloud-storage->taxgpt-database==0.1.0) (2.16.0)\n",
      "Requirement already satisfied: google-cloud-core<3.0dev,>=2.3.0 in /Users/juankostelec/opt/anaconda3/envs/taxGPT/lib/python3.11/site-packages (from google-cloud-storage->taxgpt-database==0.1.0) (2.4.1)\n",
      "Requirement already satisfied: google-resumable-media>=2.6.0 in /Users/juankostelec/opt/anaconda3/envs/taxGPT/lib/python3.11/site-packages (from google-cloud-storage->taxgpt-database==0.1.0) (2.7.0)\n",
      "Requirement already satisfied: google-crc32c<2.0dev,>=1.0 in /Users/juankostelec/opt/anaconda3/envs/taxGPT/lib/python3.11/site-packages (from google-cloud-storage->taxgpt-database==0.1.0) (1.5.0)\n",
      "Requirement already satisfied: PyYAML>=5.3 in /Users/juankostelec/opt/anaconda3/envs/taxGPT/lib/python3.11/site-packages (from langchain->taxgpt-database==0.1.0) (6.0)\n",
      "Requirement already satisfied: SQLAlchemy<3,>=1.4 in /Users/juankostelec/opt/anaconda3/envs/taxGPT/lib/python3.11/site-packages (from langchain->taxgpt-database==0.1.0) (2.0.13)\n",
      "Requirement already satisfied: aiohttp<4.0.0,>=3.8.3 in /Users/juankostelec/opt/anaconda3/envs/taxGPT/lib/python3.11/site-packages (from langchain->taxgpt-database==0.1.0) (3.8.4)\n",
      "Requirement already satisfied: dataclasses-json<0.7,>=0.5.7 in /Users/juankostelec/opt/anaconda3/envs/taxGPT/lib/python3.11/site-packages (from langchain->taxgpt-database==0.1.0) (0.5.7)\n",
      "Requirement already satisfied: jsonpatch<2.0,>=1.33 in /Users/juankostelec/opt/anaconda3/envs/taxGPT/lib/python3.11/site-packages (from langchain->taxgpt-database==0.1.0) (1.33)\n",
      "Requirement already satisfied: langchain-core<0.2,>=0.1.26 in /Users/juankostelec/opt/anaconda3/envs/taxGPT/lib/python3.11/site-packages (from langchain->taxgpt-database==0.1.0) (0.1.26)\n",
      "Requirement already satisfied: langsmith<0.2.0,>=0.1.0 in /Users/juankostelec/opt/anaconda3/envs/taxGPT/lib/python3.11/site-packages (from langchain->taxgpt-database==0.1.0) (0.1.6)\n",
      "Requirement already satisfied: numpy<2,>=1 in /Users/juankostelec/opt/anaconda3/envs/taxGPT/lib/python3.11/site-packages (from langchain->taxgpt-database==0.1.0) (1.26.4)\n",
      "Requirement already satisfied: tenacity<9.0.0,>=8.1.0 in /Users/juankostelec/opt/anaconda3/envs/taxGPT/lib/python3.11/site-packages (from langchain->taxgpt-database==0.1.0) (8.2.2)\n",
      "Requirement already satisfied: distro<2,>=1.7.0 in /Users/juankostelec/opt/anaconda3/envs/taxGPT/lib/python3.11/site-packages (from openai->taxgpt-database==0.1.0) (1.9.0)\n",
      "Requirement already satisfied: httpx<1,>=0.23.0 in /Users/juankostelec/opt/anaconda3/envs/taxGPT/lib/python3.11/site-packages (from openai->taxgpt-database==0.1.0) (0.23.3)\n",
      "Requirement already satisfied: sniffio in /Users/juankostelec/opt/anaconda3/envs/taxGPT/lib/python3.11/site-packages (from openai->taxgpt-database==0.1.0) (1.2.0)\n",
      "Requirement already satisfied: python-dateutil>=2.8.1 in /Users/juankostelec/opt/anaconda3/envs/taxGPT/lib/python3.11/site-packages (from pandas->taxgpt-database==0.1.0) (2.8.2)\n",
      "Requirement already satisfied: pytz>=2020.1 in /Users/juankostelec/opt/anaconda3/envs/taxGPT/lib/python3.11/site-packages (from pandas->taxgpt-database==0.1.0) (2022.7)\n",
      "Requirement already satisfied: PyMuPDFb==1.23.6 in /Users/juankostelec/opt/anaconda3/envs/taxGPT/lib/python3.11/site-packages (from pymupdf->taxgpt-database==0.1.0) (1.23.6)\n",
      "Requirement already satisfied: urllib3<3,>=1.26 in /Users/juankostelec/opt/anaconda3/envs/taxGPT/lib/python3.11/site-packages (from urllib3[socks]<3,>=1.26->selenium->taxgpt-database==0.1.0) (1.26.15)\n",
      "Requirement already satisfied: trio~=0.17 in /Users/juankostelec/opt/anaconda3/envs/taxGPT/lib/python3.11/site-packages (from selenium->taxgpt-database==0.1.0) (0.22.2)\n",
      "Requirement already satisfied: trio-websocket~=0.9 in /Users/juankostelec/opt/anaconda3/envs/taxGPT/lib/python3.11/site-packages (from selenium->taxgpt-database==0.1.0) (0.11.1)\n",
      "Requirement already satisfied: certifi>=2021.10.8 in /Users/juankostelec/opt/anaconda3/envs/taxGPT/lib/python3.11/site-packages (from selenium->taxgpt-database==0.1.0) (2024.2.2)\n",
      "Requirement already satisfied: click>=7.0 in /Users/juankostelec/opt/anaconda3/envs/taxGPT/lib/python3.11/site-packages (from uvicorn->taxgpt-database==0.1.0) (8.1.3)\n",
      "Requirement already satisfied: h11>=0.8 in /Users/juankostelec/opt/anaconda3/envs/taxGPT/lib/python3.11/site-packages (from uvicorn->taxgpt-database==0.1.0) (0.14.0)\n",
      "Requirement already satisfied: attrs>=17.3.0 in /Users/juankostelec/opt/anaconda3/envs/taxGPT/lib/python3.11/site-packages (from aiohttp<4.0.0,>=3.8.3->langchain->taxgpt-database==0.1.0) (23.1.0)\n",
      "Requirement already satisfied: charset-normalizer<4.0,>=2.0 in /Users/juankostelec/opt/anaconda3/envs/taxGPT/lib/python3.11/site-packages (from aiohttp<4.0.0,>=3.8.3->langchain->taxgpt-database==0.1.0) (2.0.4)\n",
      "Requirement already satisfied: multidict<7.0,>=4.5 in /Users/juankostelec/opt/anaconda3/envs/taxGPT/lib/python3.11/site-packages (from aiohttp<4.0.0,>=3.8.3->langchain->taxgpt-database==0.1.0) (6.0.4)\n",
      "Requirement already satisfied: async-timeout<5.0,>=4.0.0a3 in /Users/juankostelec/opt/anaconda3/envs/taxGPT/lib/python3.11/site-packages (from aiohttp<4.0.0,>=3.8.3->langchain->taxgpt-database==0.1.0) (4.0.2)\n",
      "Requirement already satisfied: yarl<2.0,>=1.0 in /Users/juankostelec/opt/anaconda3/envs/taxGPT/lib/python3.11/site-packages (from aiohttp<4.0.0,>=3.8.3->langchain->taxgpt-database==0.1.0) (1.9.2)\n",
      "Requirement already satisfied: frozenlist>=1.1.1 in /Users/juankostelec/opt/anaconda3/envs/taxGPT/lib/python3.11/site-packages (from aiohttp<4.0.0,>=3.8.3->langchain->taxgpt-database==0.1.0) (1.3.3)\n",
      "Requirement already satisfied: aiosignal>=1.1.2 in /Users/juankostelec/opt/anaconda3/envs/taxGPT/lib/python3.11/site-packages (from aiohttp<4.0.0,>=3.8.3->langchain->taxgpt-database==0.1.0) (1.3.1)\n",
      "Requirement already satisfied: idna>=2.8 in /Users/juankostelec/opt/anaconda3/envs/taxGPT/lib/python3.11/site-packages (from anyio<4.0.0,>=3.7.1->fastapi->taxgpt-database==0.1.0) (3.4)\n",
      "Requirement already satisfied: marshmallow<4.0.0,>=3.3.0 in /Users/juankostelec/opt/anaconda3/envs/taxGPT/lib/python3.11/site-packages (from dataclasses-json<0.7,>=0.5.7->langchain->taxgpt-database==0.1.0) (3.19.0)\n",
      "Requirement already satisfied: marshmallow-enum<2.0.0,>=1.5.1 in /Users/juankostelec/opt/anaconda3/envs/taxGPT/lib/python3.11/site-packages (from dataclasses-json<0.7,>=0.5.7->langchain->taxgpt-database==0.1.0) (1.5.1)\n",
      "Requirement already satisfied: typing-inspect>=0.4.0 in /Users/juankostelec/opt/anaconda3/envs/taxGPT/lib/python3.11/site-packages (from dataclasses-json<0.7,>=0.5.7->langchain->taxgpt-database==0.1.0) (0.8.0)\n",
      "Requirement already satisfied: googleapis-common-protos<2.0.dev0,>=1.56.2 in /Users/juankostelec/opt/anaconda3/envs/taxGPT/lib/python3.11/site-packages (from google-api-core!=2.0.*,!=2.1.*,!=2.2.*,!=2.3.0,<3.0.0dev,>=1.31.5->google-cloud-storage->taxgpt-database==0.1.0) (1.62.0)\n",
      "Requirement already satisfied: protobuf!=3.20.0,!=3.20.1,!=4.21.0,!=4.21.1,!=4.21.2,!=4.21.3,!=4.21.4,!=4.21.5,<5.0.0.dev0,>=3.19.5 in /Users/juankostelec/opt/anaconda3/envs/taxGPT/lib/python3.11/site-packages (from google-api-core!=2.0.*,!=2.1.*,!=2.2.*,!=2.3.0,<3.0.0dev,>=1.31.5->google-cloud-storage->taxgpt-database==0.1.0) (4.25.2)\n",
      "Requirement already satisfied: httpcore<0.17.0,>=0.15.0 in /Users/juankostelec/opt/anaconda3/envs/taxGPT/lib/python3.11/site-packages (from httpx<1,>=0.23.0->openai->taxgpt-database==0.1.0) (0.16.3)\n",
      "Requirement already satisfied: rfc3986<2,>=1.3 in /Users/juankostelec/opt/anaconda3/envs/taxGPT/lib/python3.11/site-packages (from rfc3986[idna2008]<2,>=1.3->httpx<1,>=0.23.0->openai->taxgpt-database==0.1.0) (1.5.0)\n",
      "Requirement already satisfied: jsonpointer>=1.9 in /Users/juankostelec/opt/anaconda3/envs/taxGPT/lib/python3.11/site-packages (from jsonpatch<2.0,>=1.33->langchain->taxgpt-database==0.1.0) (2.4)\n",
      "Requirement already satisfied: packaging<24.0,>=23.2 in /Users/juankostelec/opt/anaconda3/envs/taxGPT/lib/python3.11/site-packages (from langchain-core<0.2,>=0.1.26->langchain->taxgpt-database==0.1.0) (23.2)\n",
      "Requirement already satisfied: orjson<4.0.0,>=3.9.14 in /Users/juankostelec/opt/anaconda3/envs/taxGPT/lib/python3.11/site-packages (from langsmith<0.2.0,>=0.1.0->langchain->taxgpt-database==0.1.0) (3.9.15)\n",
      "Requirement already satisfied: pyasn1<0.6.0,>=0.4.6 in /Users/juankostelec/opt/anaconda3/envs/taxGPT/lib/python3.11/site-packages (from pyasn1-modules>=0.2.1->google-auth->taxgpt-database==0.1.0) (0.5.0)\n",
      "Requirement already satisfied: annotated-types>=0.4.0 in /Users/juankostelec/opt/anaconda3/envs/taxGPT/lib/python3.11/site-packages (from pydantic!=1.8,!=1.8.1,!=2.0.0,!=2.0.1,!=2.1.0,<3.0.0,>=1.7.4->fastapi->taxgpt-database==0.1.0) (0.6.0)\n",
      "Requirement already satisfied: pydantic-core==2.18.2 in /Users/juankostelec/opt/anaconda3/envs/taxGPT/lib/python3.11/site-packages (from pydantic!=1.8,!=1.8.1,!=2.0.0,!=2.0.1,!=2.1.0,<3.0.0,>=1.7.4->fastapi->taxgpt-database==0.1.0) (2.18.2)\n",
      "Requirement already satisfied: six>=1.5 in /Users/juankostelec/opt/anaconda3/envs/taxGPT/lib/python3.11/site-packages (from python-dateutil>=2.8.1->pandas->taxgpt-database==0.1.0) (1.16.0)\n",
      "Requirement already satisfied: greenlet!=0.4.17 in /Users/juankostelec/opt/anaconda3/envs/taxGPT/lib/python3.11/site-packages (from SQLAlchemy<3,>=1.4->langchain->taxgpt-database==0.1.0) (3.0.3)\n",
      "Requirement already satisfied: sortedcontainers in /Users/juankostelec/opt/anaconda3/envs/taxGPT/lib/python3.11/site-packages (from trio~=0.17->selenium->taxgpt-database==0.1.0) (2.4.0)\n",
      "Requirement already satisfied: outcome in /Users/juankostelec/opt/anaconda3/envs/taxGPT/lib/python3.11/site-packages (from trio~=0.17->selenium->taxgpt-database==0.1.0) (1.3.0)\n",
      "Requirement already satisfied: wsproto>=0.14 in /Users/juankostelec/opt/anaconda3/envs/taxGPT/lib/python3.11/site-packages (from trio-websocket~=0.9->selenium->taxgpt-database==0.1.0) (1.2.0)\n",
      "Requirement already satisfied: PySocks!=1.5.7,<2.0,>=1.5.6 in /Users/juankostelec/opt/anaconda3/envs/taxGPT/lib/python3.11/site-packages (from urllib3[socks]<3,>=1.26->selenium->taxgpt-database==0.1.0) (1.7.1)\n",
      "Requirement already satisfied: mypy-extensions>=0.3.0 in /Users/juankostelec/opt/anaconda3/envs/taxGPT/lib/python3.11/site-packages (from typing-inspect>=0.4.0->dataclasses-json<0.7,>=0.5.7->langchain->taxgpt-database==0.1.0) (1.0.0)\n",
      "Using cached argparse-1.4.0-py2.py3-none-any.whl (23 kB)\n",
      "\u001b[33mWARNING: Skipping /Users/juankostelec/opt/anaconda3/envs/taxGPT/lib/python3.11/site-packages/python_magic-0.4.27.dist-info due to invalid metadata entry 'name'\u001b[0m\u001b[33m\n",
      "\u001b[0mInstalling collected packages: argparse, taxgpt-database\n",
      "  Attempting uninstall: taxgpt-database\n",
      "\u001b[33m    WARNING: Skipping /Users/juankostelec/opt/anaconda3/envs/taxGPT/lib/python3.11/site-packages/python_magic-0.4.27.dist-info due to invalid metadata entry 'name'\u001b[0m\u001b[33m\n",
      "\u001b[0m    Found existing installation: taxgpt-database 0.1.0\n",
      "    Uninstalling taxgpt-database-0.1.0:\n",
      "      Successfully uninstalled taxgpt-database-0.1.0\n",
      "  Running setup.py develop for taxgpt-database\n",
      "\u001b[33mWARNING: Skipping /Users/juankostelec/opt/anaconda3/envs/taxGPT/lib/python3.11/site-packages/python_magic-0.4.27.dist-info due to invalid metadata entry 'name'\u001b[0m\u001b[33m\n",
      "\u001b[0m\u001b[33mWARNING: Skipping /Users/juankostelec/opt/anaconda3/envs/taxGPT/lib/python3.11/site-packages/python_magic-0.4.27.dist-info due to invalid metadata entry 'name'\u001b[0m\u001b[33m\n",
      "\u001b[0mSuccessfully installed argparse-1.4.0 taxgpt-database-0.1.0\n",
      "\u001b[33mWARNING: Skipping /Users/juankostelec/opt/anaconda3/envs/taxGPT/lib/python3.11/site-packages/python_magic-0.4.27.dist-info due to invalid metadata entry 'name'\u001b[0m\u001b[33m\n",
      "\u001b[0m\n",
      "\u001b[1m[\u001b[0m\u001b[34;49mnotice\u001b[0m\u001b[1;39;49m]\u001b[0m\u001b[39;49m A new release of pip is available: \u001b[0m\u001b[31;49m23.3.1\u001b[0m\u001b[39;49m -> \u001b[0m\u001b[32;49m24.0\u001b[0m\n",
      "\u001b[1m[\u001b[0m\u001b[34;49mnotice\u001b[0m\u001b[1;39;49m]\u001b[0m\u001b[39;49m To update, run: \u001b[0m\u001b[32;49mpip install --upgrade pip\u001b[0m\n"
     ]
    }
   ],
   "source": [
    "! pip install -e ."
   ]
  },
  {
   "cell_type": "code",
   "execution_count": 13,
   "id": "1da7d946",
   "metadata": {},
   "outputs": [
    {
     "name": "stdout",
     "output_type": "stream",
     "text": [
      "1501\n"
     ]
    }
   ],
   "source": [
    "import numpy as np\n",
    "import pandas as pd\n",
    "import os\n",
    "import json\n",
    "import sys\n",
    "from urllib.parse import urlparse\n",
    "\n",
    "# sys.path.append(\"/Users/juankostelec/Google_drive/Projects/taxGPT-database/app\")\n",
    "from app.utils import is_url_to_file, get_filetype\n",
    "from app.parser.text_parser import FileProcessor\n",
    "\n",
    "pd.set_option('display.max_colwidth', None)\n",
    "DIR = \"/Users/juankostelec/Google_drive/Projects/taxGPT-database/data\"\n",
    "reference_data_path = os.path.join(DIR,  \"references.csv\")\n",
    "downloaded_data_path = os.path.join(DIR,  \"downloaded_data_index.csv\")\n",
    "references = pd.read_csv(reference_data_path)\n",
    "downloaded = pd.read_csv(downloaded_data_path)\n",
    "print(len(downloaded))\n",
    "downloaded[\"was_converted\"] = downloaded[\"processed_filepath\"].notna()\n",
    "downloaded[\"was_chunked\"] = downloaded[\"file_chunks_path\"].notna()\n",
    "downloaded[\"was_uploaded\"] = downloaded[\"in_vector_db\"].notna()"
   ]
  },
  {
   "cell_type": "markdown",
   "id": "d289679b",
   "metadata": {},
   "source": [
    "## Referenced --> Downloaed"
   ]
  },
  {
   "cell_type": "code",
   "execution_count": 14,
   "id": "bf24f59b",
   "metadata": {},
   "outputs": [
    {
     "name": "stdout",
     "output_type": "stream",
     "text": [
      "Index(['area_name', 'area_desc', 'reference_name', 'reference_href',\n",
      "       'reference_href_clean', 'details_section', 'details_section_text',\n",
      "       'details_href_name', 'details_href', 'is_scraped', 'file_id',\n",
      "       'used_download_href', 'actual_download_link',\n",
      "       'actual_download_location', 'date_downloaded'],\n",
      "      dtype='object')\n",
      "True     549\n",
      "False     60\n",
      "Name: is_scraped, dtype: int64\n",
      "Series([], Name: is_scraped, dtype: int64)\n",
      "zip    60\n",
      "Name: file_type, dtype: int64\n",
      "Series([], Name: details_href, dtype: object)\n"
     ]
    },
    {
     "name": "stderr",
     "output_type": "stream",
     "text": [
      "/var/folders/y1/f5f_tzds45b44fhpyxx38qs40000gn/T/ipykernel_73469/3487620252.py:7: SettingWithCopyWarning: \n",
      "A value is trying to be set on a copy of a slice from a DataFrame.\n",
      "Try using .loc[row_indexer,col_indexer] = value instead\n",
      "\n",
      "See the caveats in the documentation: https://pandas.pydata.org/pandas-docs/stable/user_guide/indexing.html#returning-a-view-versus-a-copy\n",
      "  not_downloaded_rows[\"is_reference_file\"] = not_downloaded_rows[\"reference_href_clean\"].apply(is_url_to_file)\n",
      "/var/folders/y1/f5f_tzds45b44fhpyxx38qs40000gn/T/ipykernel_73469/3487620252.py:27: SettingWithCopyWarning: \n",
      "A value is trying to be set on a copy of a slice from a DataFrame.\n",
      "Try using .loc[row_indexer,col_indexer] = value instead\n",
      "\n",
      "See the caveats in the documentation: https://pandas.pydata.org/pandas-docs/stable/user_guide/indexing.html#returning-a-view-versus-a-copy\n",
      "  not_downloaded_detailed_rows[\"file_type\"] = not_downloaded_detailed_rows[\"details_href\"].apply(get_filetype)\n"
     ]
    }
   ],
   "source": [
    "# Analyze first part of the pipeline\n",
    "# Which rows of the reference data were not downloaded!!\n",
    "print(references.columns)\n",
    "\n",
    "# Check the rows of references data whose file_id is not present in the downloaded data\n",
    "not_downloaded_rows = references[~references[\"file_id\"].isin(downloaded[\"file_id\"])]\n",
    "not_downloaded_rows[\"is_reference_file\"] = not_downloaded_rows[\"reference_href_clean\"].apply(is_url_to_file)\n",
    "\n",
    "# Keep only rows tha$t:\n",
    "# a) details_href is not None\n",
    "# b) details_href is None and reference_href_clean is not None and it's a file\n",
    "not_downloaded_detailed_rows = not_downloaded_rows[not_downloaded_rows['details_href'].notna()]\n",
    "not_downloaded_reference_rows = not_downloaded_rows[\n",
    "    (not_downloaded_rows['details_href'].isna() & \n",
    "     not_downloaded_rows['reference_href_clean'].notna() & \n",
    "     (not_downloaded_rows['is_reference_file'] == True)\n",
    "    )\n",
    "]\n",
    "print(not_downloaded_detailed_rows[\"is_scraped\"].value_counts())\n",
    "print(not_downloaded_reference_rows[\"is_scraped\"].value_counts())\n",
    "# Conclusions: We download all the relevant main references\n",
    "# Conclusions: I have indeed tried to download all the files. If there is a mismatch, it is likely\n",
    "# either because the file cannot be downloaded, or it is a repeat (i.e. several rows reference\n",
    "# the same file\n",
    "\n",
    "# Check the filetypes of the files that were not downloaded --> only .zip files\n",
    "not_downloaded_detailed_rows[\"file_type\"] = not_downloaded_detailed_rows[\"details_href\"].apply(get_filetype)\n",
    "data = not_downloaded_detailed_rows[not_downloaded_detailed_rows[\"is_scraped\"] == False]\n",
    "print(data[\"file_type\"].value_counts())\n",
    "print(data.query(\"file_type == 'unknown'\")[\"details_href\"].head(200))\n",
    "\n",
    "\n"
   ]
  },
  {
   "cell_type": "markdown",
   "id": "db866a21",
   "metadata": {},
   "source": [
    "## Downloaded --> Converted"
   ]
  },
  {
   "cell_type": "code",
   "execution_count": 15,
   "id": "f228fcb8",
   "metadata": {},
   "outputs": [
    {
     "name": "stdout",
     "output_type": "stream",
     "text": [
      "Index(['file_id', 'filename', 'date_downloaded', 'area', 'subarea', 'section',\n",
      "       'file_type', 'raw_filepath', 'processed_filepath', 'downloaded_path',\n",
      "       'file_summary', 'file_chunks_path', 'in_vector_db', 'was_converted',\n",
      "       'was_chunked', 'was_uploaded'],\n",
      "      dtype='object')\n",
      "pdf     16\n",
      "docx     3\n",
      "Name: file_type, dtype: int64\n",
      "392                    /Users/juankostelec/Google_drive/Projects/taxGPT-database/data/raw_files/Vrednostni_limiti_v_posameznih_državah_članicah.pdf\n",
      "473                                                       /Users/juankostelec/Google_drive/Projects/taxGPT-database/data/raw_files/Obrazec_VS-1.pdf\n",
      "474                                                       /Users/juankostelec/Google_drive/Projects/taxGPT-database/data/raw_files/Obrazec_VP-1.pdf\n",
      "475                                                       /Users/juankostelec/Google_drive/Projects/taxGPT-database/data/raw_files/Obrazec_HS-1.pdf\n",
      "680                                                                 /Users/juankostelec/Google_drive/Projects/taxGPT-database/data/raw_files/EN.pdf\n",
      "698                                                  /Users/juankostelec/Google_drive/Projects/taxGPT-database/data/raw_files/AEO_Compact_Model.pdf\n",
      "1009    /Users/juankostelec/Google_drive/Projects/taxGPT-database/data/raw_files/Zloženka_Ohranimo_ogrožene_živalske_in_rastlinske_vrste_-CITES.pdf\n",
      "1078                                                                /Users/juankostelec/Google_drive/Projects/taxGPT-database/data/raw_files/EN.pdf\n",
      "1081                                      /Users/juankostelec/Google_drive/Projects/taxGPT-database/data/raw_files/Priročnik_za_vlaganje_zahtev.pdf\n",
      "1088                                                                /Users/juankostelec/Google_drive/Projects/taxGPT-database/data/raw_files/EN.pdf\n",
      "Name: downloaded_path, dtype: object\n",
      "403     /Users/juankostelec/Google_drive/Projects/taxGPT-database/data/raw_files/Širitev_sistema_\"Vse_na_enem_mestu\"_in_posebne_ureditve_za_poslovne_subjekte_-_VEM_-s_pogostimi_vpra.docx\n",
      "758     /Users/juankostelec/Google_drive/Projects/taxGPT-database/data/raw_files/Širitev_sistema_\"Vse_na_enem_mestu\"_in_posebne_ureditve_za_poslovne_subjekte_-_VEM_-s_pogostimi_vpra.docx\n",
      "1240    /Users/juankostelec/Google_drive/Projects/taxGPT-database/data/raw_files/Poslovanje_z_\"neplačujočimi_gospodarskimi_subjekti\"_in_odgovornost_gospodarskih_subjektov_za_plačilo.docx\n",
      "Name: downloaded_path, dtype: object\n"
     ]
    }
   ],
   "source": [
    "print(downloaded.columns)\n",
    "not_converted_data = downloaded[~downloaded[\"was_converted\"]]\n",
    "print(not_converted_data[\"file_type\"].value_counts())\n",
    "\n",
    "# Let's explore HTML files that were not converted:\n",
    "pdf_not_converted_files = not_converted_data[not_converted_data[\"file_type\"] == \"pdf\"]\n",
    "print(pdf_not_converted_files[\"downloaded_path\"].head(10))\n",
    "\n",
    "docs_not_converted_files = not_converted_data[not_converted_data[\"file_type\"] == \"docx\"]\n",
    "print(docs_not_converted_files[\"downloaded_path\"].head(10))\n",
    "\n"
   ]
  },
  {
   "cell_type": "markdown",
   "id": "a1cc8762",
   "metadata": {},
   "source": [
    "## Converted --> Chunked"
   ]
  },
  {
   "cell_type": "code",
   "execution_count": 16,
   "id": "7b3852d7",
   "metadata": {},
   "outputs": [
    {
     "name": "stdout",
     "output_type": "stream",
     "text": [
      "Series([], Name: file_type, dtype: int64)\n",
      "Davčna_obravnava_odškodnin_\"vse_v_enem\"_po_5._točki_27._člena_ZDoh-2\n"
     ]
    }
   ],
   "source": [
    "converted_data = downloaded[downloaded[\"was_converted\"]]\n",
    "not_chunked_data = converted_data[~converted_data[\"was_chunked\"]]\n",
    "chunked_data = converted_data[converted_data[\"was_chunked\"]]\n",
    "print(not_chunked_data[\"file_type\"].value_counts())\n",
    "\n",
    "example = '/Users/juankostelec/Google_drive/Projects/taxGPT-database/data/chunked_files/Davčna_obravnava_odškodnin_\"vse_v_enem\"_po_5._točki_27._člena_ZDoh-2.txt'\n",
    "print(os.path.splitext(os.path.basename(example))[0])\n",
    "\n"
   ]
  },
  {
   "cell_type": "markdown",
   "id": "e90deaa0",
   "metadata": {},
   "source": [
    "## Chunked --> Uploaded"
   ]
  },
  {
   "cell_type": "code",
   "execution_count": 18,
   "id": "1f08a324",
   "metadata": {},
   "outputs": [
    {
     "name": "stdout",
     "output_type": "stream",
     "text": [
      "html    405\n",
      "docx    213\n",
      "doc     161\n",
      "pdf     101\n",
      "xlsx     23\n",
      "Name: file_type, dtype: int64\n"
     ]
    }
   ],
   "source": [
    "chunked_data = downloaded[downloaded[\"was_chunked\"]]\n",
    "not_uploaded_data = chunked_data[~chunked_data[\"was_uploaded\"]]\n",
    "print(not_uploaded_data[\"file_type\"].value_counts())\n",
    "\n"
   ]
  },
  {
   "cell_type": "markdown",
   "id": "835ad3d7",
   "metadata": {},
   "source": [
    "## Testing functions"
   ]
  },
  {
   "cell_type": "code",
   "execution_count": null,
   "id": "6b162970",
   "metadata": {},
   "outputs": [],
   "source": [
    "# Let's test how to better convert the html to md\n",
    "import html2text\n",
    "def convert_html_to_md(path, save_path):\n",
    "    h = html2text.HTML2Text()\n",
    "    h.ignore_links = True\n",
    "    h.ignore_images = True\n",
    "    with open(path, \"r\") as fin:\n",
    "        markdown_content = h.handle(fin.read())\n",
    "        with open(save_path, \"w\") as fout:\n",
    "            fout.write(markdown_content)\n",
    "    return save_path\n",
    "\n",
    "# Use pandoc to convert html to markdown\n",
    "# I want to ignore the image data\n",
    "from markdownify import markdownify as md\n",
    "def convert_html_to_md_markdownify(html_path, md_path):\n",
    "    with open(html_path, 'r', encoding='utf-8') as file:\n",
    "        html_content = file.read()\n",
    "    markdown = md(html_content, strip=['img'])  # Stripping 'img' tags\n",
    "    with open(md_path, 'w', encoding='utf-8') as file:\n",
    "        file.write(markdown)\n",
    "\n",
    "file_path = \"/Users/juankostelec/Google_drive/Projects/taxGPT-database/data/raw_files/Dokument_02009R1072-20220221.html\"\n",
    "save_path = \"/Users/juankostelec/Google_drive/Projects/taxGPT-database/data/converted_files/Dokument_02009R1072-20220221.md\"\n",
    "\n",
    "file_path = \"/Users/juankostelec/Google_drive/Projects/taxGPT-database/data/raw_files/Pravilnik_o_vodenju_in_vzdrževanju_davčnega_registra.html\"\n",
    "save_path = \"/Users/juankostelec/Google_drive/Projects/taxGPT-database/data/converted_files/Pravilnik_o_vodenju_in_vzdrževanju_davčnega_registra_test.md\"\n",
    "convert_html_to_md(file_path, save_path)\n",
    "\n",
    "# save_path1 = \"/Users/juankostelec/Google_drive/Projects/taxGPT-database/data/converted_files/Dokument_02009R1072-20220221_v2.md\"\n",
    "# convert_html_to_md_markdownify(file_path, save_path1)"
   ]
  },
  {
   "cell_type": "markdown",
   "id": "1ce0889b",
   "metadata": {},
   "source": []
  }
 ],
 "metadata": {
  "kernelspec": {
   "display_name": "Python 3 (ipykernel)",
   "language": "python",
   "name": "python3"
  },
  "language_info": {
   "codemirror_mode": {
    "name": "ipython",
    "version": 3
   },
   "file_extension": ".py",
   "mimetype": "text/x-python",
   "name": "python",
   "nbconvert_exporter": "python",
   "pygments_lexer": "ipython3",
   "version": "3.11.3"
  }
 },
 "nbformat": 4,
 "nbformat_minor": 5
}
