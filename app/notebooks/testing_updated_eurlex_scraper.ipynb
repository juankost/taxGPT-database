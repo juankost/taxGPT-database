{
 "cells": [
  {
   "cell_type": "code",
   "execution_count": 4,
   "metadata": {},
   "outputs": [],
   "source": [
    "\n",
    "import numpy as np\n",
    "import pandas as pd\n",
    "import os\n",
    "pd.set_option('display.max_colwidth', None)\n"
   ]
  },
  {
   "cell_type": "code",
   "execution_count": 8,
   "metadata": {},
   "outputs": [
    {
     "name": "stdout",
     "output_type": "stream",
     "text": [
      "397 559\n",
      "0\n",
      "Empty DataFrame\n",
      "Columns: [details_href, actual_download_link]\n",
      "Index: []\n",
      "109\n",
      "                                                                                                                                                                                                                              details_href  \\\n",
      "34                                                                                                                                                http://eur-lex.europa.eu/legal-content/EN/ALL/?uri=uriserv:OJ.L_.2009.197.01.0024.01.ENG   \n",
      "54   http://eur-lex.europa.eu/search.html?DTN=0952&DTA=2013&qid=1468324554259&DB_TYPE_OF_ACT=regulation&CASE_LAW_SUMMARY=false&DTS_DOM=ALL&excConsLeg=true&typeOfActStatus=REGULATION&type=advanced&SUBDOM_INIT=ALL_ALL&DTS_SUBDOM=ALL_ALL   \n",
      "58                                                                                                                                                           http://eur-lex.europa.eu/legal-content/SL/TXT/PDF/?uri=CELEX:32015R2447&rid=1   \n",
      "59   http://eur-lex.europa.eu/search.html?DTN=2447&DTA=2015&qid=1468324664616&DB_TYPE_OF_ACT=regulation&CASE_LAW_SUMMARY=false&DTS_DOM=ALL&excConsLeg=true&typeOfActStatus=REGULATION&type=advanced&SUBDOM_INIT=ALL_ALL&DTS_SUBDOM=ALL_ALL   \n",
      "60                                                                                                                                                             http://eur-lex.europa.eu/legal-content/SL/TXT/PDF/?uri=CELEX:32015R2447&rid   \n",
      "..                                                                                                                                                                                                                                     ...   \n",
      "511                                                                                                                                                 http://eur-lex.europa.eu/legal-content/SL/TXT/PDF/?uri=CELEX:01995L0050-20080711&rid=1   \n",
      "514                                                                                                                                                        http://eur-lex.europa.eu/legal-content/SL/TXT/PDF/?uri=CELEX:32003L0048&from=EN   \n",
      "515                                                                                                                        http://eur-lex.europa.eu/resource.html?uri=cellar:a5bb0db0-ab46-43f7-a73f-cc75781a232b.0018.01/DOC_1&format=PDF   \n",
      "516                                                                                                                                                        http://eur-lex.europa.eu/legal-content/SL/TXT/PDF/?uri=CELEX:32003L0048&from=EN   \n",
      "517                                                                                                                        http://eur-lex.europa.eu/resource.html?uri=cellar:a5bb0db0-ab46-43f7-a73f-cc75781a232b.0018.01/DOC_1&format=PDF   \n",
      "\n",
      "                                                                  actual_download_link  \n",
      "34   https://eur-lex.europa.eu/legal-content/SL/TXT/PDF/?uri=CELEX:02009R0684-20220101  \n",
      "54   https://eur-lex.europa.eu/legal-content/SL/TXT/PDF/?uri=CELEX:02013R0952-20221212  \n",
      "58   https://eur-lex.europa.eu/legal-content/SL/TXT/PDF/?uri=CELEX:02015R2447-20240311  \n",
      "59   https://eur-lex.europa.eu/legal-content/SL/TXT/PDF/?uri=CELEX:02015R2447-20240311  \n",
      "60   https://eur-lex.europa.eu/legal-content/SL/TXT/PDF/?uri=CELEX:02015R2447-20240311  \n",
      "..                                                                                 ...  \n",
      "511  https://eur-lex.europa.eu/legal-content/SL/TXT/PDF/?uri=CELEX:01995L0050-20190726  \n",
      "514  https://eur-lex.europa.eu/legal-content/SL/TXT/PDF/?uri=CELEX:02003L0048-20151208  \n",
      "515  https://eur-lex.europa.eu/legal-content/SL/TXT/PDF/?uri=CELEX:02003L0048-20151208  \n",
      "516  https://eur-lex.europa.eu/legal-content/SL/TXT/PDF/?uri=CELEX:02003L0048-20151208  \n",
      "517  https://eur-lex.europa.eu/legal-content/SL/TXT/PDF/?uri=CELEX:02003L0048-20151208  \n",
      "\n",
      "[109 rows x 2 columns]\n"
     ]
    }
   ],
   "source": [
    "path = \"/Users/juankostelec/Google_drive/Projects/taxGPT-database/data/test_0420/downloaded_data_index.csv\"\n",
    "df_old = pd.read_csv(path)\n",
    "df_old[\"is_eurlex\"]  = df_old[\"raw_filepath\"].apply(lambda x: \"eur-lex\" in str(x).lower())\n",
    "df_old = df_old[df_old[\"is_eurlex\"]]\n",
    "reference_path = \"/Users/juankostelec/Google_drive/Projects/taxGPT-database/data/test_0420/references.csv\"\n",
    "reference_data = pd.read_csv(reference_path)[[\"details_href\", \"actual_download_link\"]]\n",
    "df_old = pd.merge(df_old, reference_data, left_on=\"raw_filepath\", right_on=\"actual_download_link\", how=\"left\")\n",
    "\n",
    "\n",
    "path = \"/Users/juankostelec/Google_drive/Projects/taxGPT-database/data/test_0421/downloaded_data_index.csv\"\n",
    "df_new = pd.read_csv(path)\n",
    "df_new[\"is_eurlex\"]  = df_new[\"raw_filepath\"].apply(lambda x: \"eur-lex\" in str(x).lower())\n",
    "df_new = df_new[df_new[\"is_eurlex\"]]\n",
    "reference_path = \"/Users/juankostelec/Google_drive/Projects/taxGPT-database/data/test_0421/references.csv\"\n",
    "reference_data = pd.read_csv(reference_path)[[\"details_href\", \"actual_download_link\"]]\n",
    "df_new = pd.merge(df_new, reference_data, left_on=\"raw_filepath\", right_on=\"actual_download_link\", how=\"left\")\n",
    "print(len(df_old), len(df_new))\n",
    "\n",
    "# Check which files are missing in df_new based on the \"details_href\"\n",
    "df_missing = df_old[~df_old[\"details_href\"].isin(df_new[\"details_href\"])]\n",
    "print(len(df_missing))\n",
    "print(df_missing[[\"details_href\", \"actual_download_link\"]])\n",
    "\n",
    "\n",
    "# Check which files are new compared to the old one\n",
    "df_extra_files = df_new[~df_new[\"details_href\"].isin(df_old[\"details_href\"])]\n",
    "print(len(df_extra_files))\n",
    "print(df_extra_files[[\"details_href\", \"actual_download_link\"]])\n"
   ]
  },
  {
   "cell_type": "code",
   "execution_count": null,
   "metadata": {},
   "outputs": [],
   "source": [
    "# Get EURLEX data based on CELEX and URL structure\n",
    "\n",
    "# Format for files: https://eur-lex.europa.eu/legal-content/SL/TXT/HTML/?uri=CELEX:32022L2523\n",
    "\n",
    "# How to better download EUR-LEX data: \n",
    "# 1. Check if latest version. If not, open latest version\n",
    "# 2. Extract the CELEX from the document\n",
    "#   - if available from the URL\n",
    "#   - if not, from the document title HTML element <p class=\"DocumentTitle pull-left\">Dokument&nbsp;32022L2523</p>\n",
    "# 3. Use the URL structure to try to download the HTML version of the file\n",
    "# 4. If not available, try downloading the PDF version\n",
    "\n",
    "\n",
    "def download_\n",
    "\n",
    "\n",
    "\n",
    "\n"
   ]
  },
  {
   "cell_type": "code",
   "execution_count": null,
   "metadata": {},
   "outputs": [],
   "source": []
  }
 ],
 "metadata": {
  "kernelspec": {
   "display_name": "taxGPT",
   "language": "python",
   "name": "python3"
  },
  "language_info": {
   "codemirror_mode": {
    "name": "ipython",
    "version": 3
   },
   "file_extension": ".py",
   "mimetype": "text/x-python",
   "name": "python",
   "nbconvert_exporter": "python",
   "pygments_lexer": "ipython3",
   "version": "3.11.3"
  }
 },
 "nbformat": 4,
 "nbformat_minor": 2
}
